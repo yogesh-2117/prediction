{
 "cells": [
  {
   "cell_type": "code",
   "execution_count": 1,
   "metadata": {},
   "outputs": [
    {
     "name": "stderr",
     "output_type": "stream",
     "text": [
      "C:\\Users\\Yogesh\\AppData\\Local\\Temp\\ipykernel_14984\\2620488291.py:6: DtypeWarning: Columns (0) have mixed types. Specify dtype option on import or set low_memory=False.\n",
      "  df = pd.read_csv('app\\data\\Accident_Information.csv', sep=',')\n"
     ]
    }
   ],
   "source": [
    "import pandas as pd\n",
    "import numpy as np\n",
    "from sklearn import metrics\n",
    "from sklearn.metrics import classification_report, confusion_matrix  \n",
    "\n",
    "df = pd.read_csv('app\\data\\Accident_Information.csv', sep=',')"
   ]
  },
  {
   "cell_type": "code",
   "execution_count": 2,
   "metadata": {},
   "outputs": [
    {
     "name": "stdout",
     "output_type": "stream",
     "text": [
      "0    2010553\n",
      "1      36703\n",
      "Name: Carriageway_Hazards, dtype: int64\n"
     ]
    }
   ],
   "source": [
    "encoding = {\n",
    "\"Carriageway_Hazards\": {\"None\": 0, \"Other object on road\": 1, \"Any animal in carriageway (except ridden horse)\": 1,  \"Pedestrian in carriageway - not injured\": 1, \"Previous accident\": 1, \"Vehicle load on road\": 1,  \"Data missing or out of range\": 0  }\n",
    "}\n",
    "df.replace(encoding, inplace=True)\n",
    "print(df['Carriageway_Hazards'].value_counts())"
   ]
  },
  {
   "cell_type": "code",
   "execution_count": 3,
   "metadata": {},
   "outputs": [
    {
     "name": "stdout",
     "output_type": "stream",
     "text": [
      "Daylight                        1496121\n",
      "Darkness - lights lit            404144\n",
      "Darkness - no lighting           112644\n",
      "Darkness - lighting unknown       24362\n",
      "Darkness - lights unlit            9971\n",
      "Data missing or out of range         14\n",
      "Name: Light_Conditions, dtype: int64\n",
      "0    1496135\n",
      "1     551121\n",
      "Name: Light_Conditions, dtype: int64\n"
     ]
    }
   ],
   "source": [
    "print(df['Light_Conditions'].value_counts())\n",
    "encoding_light = {\"Light_Conditions\": {\"Daylight\": 0, \"Darkness - lights lit\": 1, \"Darkness - no lighting\": 1, \"Darkness - lighting unknown\": 1, \"Darkness - lights unlit\": 1, \"Data missing or out of range\": 0}}\n",
    "df.replace(encoding_light, inplace=True)\n",
    "print(df['Light_Conditions'].value_counts())"
   ]
  },
  {
   "cell_type": "code",
   "execution_count": 4,
   "metadata": {},
   "outputs": [
    {
     "name": "stdout",
     "output_type": "stream",
     "text": [
      "Friday       335183\n",
      "Wednesday    308580\n",
      "Thursday     308240\n",
      "Tuesday      306292\n",
      "Monday       290482\n",
      "Saturday     273152\n",
      "Sunday       225327\n",
      "Name: Day_of_Week, dtype: int64\n",
      "0    1548777\n",
      "1     498479\n",
      "Name: Day_of_Week, dtype: int64\n"
     ]
    }
   ],
   "source": [
    "print(df['Day_of_Week'].value_counts())\n",
    "encoding_day_of_week = {\"Day_of_Week\": {\"Saturday\": 1, \"Sunday\": 1, \"Monday\": 0, \"Tuesday\": 0, \"Wednesday\": 0, \"Thursday\": 0, \"Friday\": 0}}\n",
    "df.replace(encoding_day_of_week, inplace=True)\n",
    "print(df['Day_of_Week'].value_counts())"
   ]
  },
  {
   "cell_type": "code",
   "execution_count": 5,
   "metadata": {},
   "outputs": [
    {
     "name": "stdout",
     "output_type": "stream",
     "text": [
      "None                                          1995137\n",
      "Roadworks                                       23525\n",
      "Oil or diesel                                    6797\n",
      "Mud                                              6363\n",
      "Road surface defective                           4801\n",
      "Auto traffic signal - out                        3855\n",
      "Road sign or marking defective or obscured       2930\n",
      "Data missing or out of range                     2835\n",
      "Auto signal part defective                       1013\n",
      "Name: Special_Conditions_at_Site, dtype: int64\n",
      "0    1997972\n",
      "1      49284\n",
      "Name: Special_Conditions_at_Site, dtype: int64\n"
     ]
    }
   ],
   "source": [
    "print(df['Special_Conditions_at_Site'].value_counts())\n",
    "encoding_Special_Conditions_at_Site = {\"Special_Conditions_at_Site\": {\"None\": 0, \"Roadworks\": 1, \"Oil or diesel\": 1, \"Mud\": 1, \"Road surface defective\": 1, \"Auto traffic signal - out\": 1, \"Road sign or marking defective or obscured\": 1, \"Auto signal part defective\": 1, \"Data missing or out of range\": 0}}\n",
    "df.replace(encoding_Special_Conditions_at_Site, inplace=True)\n",
    "print(df['Special_Conditions_at_Site'].value_counts())"
   ]
  },
  {
   "cell_type": "code",
   "execution_count": 6,
   "metadata": {},
   "outputs": [
    {
     "data": {
      "text/plain": [
       "1    1536156\n",
       "2     258076\n",
       "3     174953\n",
       "4      78071\n",
       "Name: 1st_Road_Class, dtype: int64"
      ]
     },
     "execution_count": 6,
     "metadata": {},
     "output_type": "execute_result"
    }
   ],
   "source": [
    "encoding_1st_road_class = {\"1st_Road_Class\": {\"A\": 1, \"A(M)\": 1, \"B\": 2, \"C\": 3, \"Motorway\": 4, \"Unclassified\": 1}}\n",
    "df.replace(encoding_1st_road_class, inplace=True)\n",
    "df['1st_Road_Class'].value_counts()"
   ]
  },
  {
   "cell_type": "code",
   "execution_count": 7,
   "metadata": {},
   "outputs": [],
   "source": [
    "#replacing 'Data missing or out of range' with most occured value 'Give way or uncontrolled'\n",
    "df['Junction_Control'] = df['Junction_Control'].replace(['Data missing or out of range'], 'Give way or uncontrolled')"
   ]
  },
  {
   "cell_type": "code",
   "execution_count": 8,
   "metadata": {},
   "outputs": [
    {
     "data": {
      "text/plain": [
       "Give way or uncontrolled               1742624\n",
       "Auto traffic signal                     211335\n",
       "Not at junction or within 20 metres      77304\n",
       "Stop sign                                12333\n",
       "Authorised person                         3660\n",
       "Name: Junction_Control, dtype: int64"
      ]
     },
     "execution_count": 8,
     "metadata": {},
     "output_type": "execute_result"
    }
   ],
   "source": [
    "df['Junction_Control'].value_counts()"
   ]
  },
  {
   "cell_type": "code",
   "execution_count": 9,
   "metadata": {},
   "outputs": [
    {
     "data": {
      "text/plain": [
       "1    1742624\n",
       "2     211335\n",
       "3      77304\n",
       "4      12333\n",
       "5       3660\n",
       "Name: Junction_Control, dtype: int64"
      ]
     },
     "execution_count": 9,
     "metadata": {},
     "output_type": "execute_result"
    }
   ],
   "source": [
    "encoding_junction_detail = {\"Junction_Control\": \n",
    "                            {\"Give way or uncontrolled\": 1,\n",
    "                             \"Auto traffic signal\": 2,\n",
    "                             \"Not at junction or within 20 metres\": 3, \n",
    "                             \"Stop sign\": 4,\n",
    "                             \"Authorised person\": 5,\n",
    "                              }}\n",
    "df.replace(encoding_junction_detail, inplace=True)\n",
    "df['Junction_Control'].value_counts()"
   ]
  },
  {
   "cell_type": "code",
   "execution_count": 10,
   "metadata": {},
   "outputs": [
    {
     "data": {
      "text/plain": [
       "1    827957\n",
       "2    635349\n",
       "3    196283\n",
       "4    177214\n",
       "5     72751\n",
       "6     59692\n",
       "7     30052\n",
       "8     25551\n",
       "9     22407\n",
       "Name: Junction_Detail, dtype: int64"
      ]
     },
     "execution_count": 10,
     "metadata": {},
     "output_type": "execute_result"
    }
   ],
   "source": [
    "encoding_junction_detail = {\"Junction_Detail\": \n",
    "                            {\"Not at junction or within 20 metres\": 1,\n",
    "                             \"T or staggered junction\": 2,\n",
    "                             \"Crossroads\": 3, \n",
    "                             \"Roundabout\": 4,\n",
    "                             \"Private drive or entrance\": 5,\n",
    "                             \"Other junction\": 6,\n",
    "                             \"Slip road\": 7,\n",
    "                             \"More than 4 arms (not roundabout)\": 8,\n",
    "                             \"Mini-roundabout\": 9,\n",
    "                             \"Data missing or out of range\": 1 }}\n",
    "df.replace(encoding_junction_detail, inplace=True)\n",
    "df['Junction_Detail'].value_counts()"
   ]
  },
  {
   "cell_type": "code",
   "execution_count": 11,
   "metadata": {},
   "outputs": [
    {
     "data": {
      "text/plain": [
       "1    1423360\n",
       "2     568563\n",
       "3      40321\n",
       "4      12167\n",
       "5       2845\n",
       "Name: Road_Surface_Conditions, dtype: int64"
      ]
     },
     "execution_count": 11,
     "metadata": {},
     "output_type": "execute_result"
    }
   ],
   "source": [
    "encoding_road_surface_cond = {\"Road_Surface_Conditions\": \n",
    "                            {\"Dry\": 1,\n",
    "                             \"Wet or damp\": 2,\n",
    "                             \"Frost or ice\": 3, \n",
    "                             \"Snow\": 4,\n",
    "                             \"Flood over 3cm. deep\": 5,\n",
    "                             \"Data missing or out of range\": 1 }}\n",
    "df.replace(encoding_road_surface_cond, inplace=True)\n",
    "df['Road_Surface_Conditions'].value_counts()"
   ]
  },
  {
   "cell_type": "code",
   "execution_count": 12,
   "metadata": {},
   "outputs": [
    {
     "data": {
      "text/plain": [
       "1    1527883\n",
       "2     303407\n",
       "3     136754\n",
       "4      43258\n",
       "5      21558\n",
       "0      14396\n",
       "Name: Road_Type, dtype: int64"
      ]
     },
     "execution_count": 12,
     "metadata": {},
     "output_type": "execute_result"
    }
   ],
   "source": [
    "encoding_road_type = {\"Road_Type\": \n",
    "                            {\"Single carriageway\": 1,\n",
    "                             \"Dual carriageway\": 2,\n",
    "                             \"Roundabout\": 3, \n",
    "                             \"One way street\": 4,\n",
    "                             \"Slip road\": 5,\n",
    "                             \"Unknown\": 0,\n",
    "                             \"Data missing or out of range\": 1 }}\n",
    "df.replace(encoding_road_type, inplace=True)\n",
    "df['Road_Type'].value_counts()"
   ]
  },
  {
   "cell_type": "code",
   "execution_count": 13,
   "metadata": {},
   "outputs": [
    {
     "data": {
      "text/plain": [
       "1    1322499\n",
       "2     724757\n",
       "Name: Urban_or_Rural_Area, dtype: int64"
      ]
     },
     "execution_count": 13,
     "metadata": {},
     "output_type": "execute_result"
    }
   ],
   "source": [
    "encoding_urban_rural = {\"Urban_or_Rural_Area\": \n",
    "                            {\"Urban\": 1,\n",
    "                             \"Rural\": 2,\n",
    "                             \"Unallocated\": 1 }}\n",
    "df.replace(encoding_urban_rural, inplace=True)\n",
    "df['Urban_or_Rural_Area'].value_counts()"
   ]
  },
  {
   "cell_type": "code",
   "execution_count": 14,
   "metadata": {},
   "outputs": [
    {
     "data": {
      "text/plain": [
       "1    1726874\n",
       "2     239281\n",
       "3      28343\n",
       "4      25816\n",
       "5      13387\n",
       "6      11068\n",
       "7       2487\n",
       "Name: Weather_Conditions, dtype: int64"
      ]
     },
     "execution_count": 14,
     "metadata": {},
     "output_type": "execute_result"
    }
   ],
   "source": [
    "encoding_weather = {\"Weather_Conditions\": \n",
    "                            {\"Fine no high winds\": 1,\n",
    "                             \"Raining no high winds\": 2,\n",
    "                             \"Raining + high winds\": 3,\n",
    "                             \"Fine + high winds\": 4,\n",
    "                             \"Snowing no high winds\": 5,\n",
    "                             \"Fog or mist\": 6,\n",
    "                             \"Snowing + high winds\": 7,\n",
    "                             \"Unknown\": 1,\n",
    "                             \"Other\": 1,\n",
    "                             \"Data missing or out of range\": 1 }}\n",
    "df.replace(encoding_weather, inplace=True)\n",
    "df['Weather_Conditions'].value_counts()"
   ]
  },
  {
   "cell_type": "code",
   "execution_count": 15,
   "metadata": {},
   "outputs": [
    {
     "data": {
      "text/plain": [
       "(array([1801605, 1843133, 1843396, 1857338, 1857382, 1857458, 1857466,\n",
       "        1857525, 1857526, 1857527, 1857531, 1857539, 1857561, 1857564,\n",
       "        1857583, 1857610, 1857613, 1857618, 1857622, 1857627, 1857635,\n",
       "        1857681, 1857704, 1857720, 1857736, 1857737, 1857772, 1898106,\n",
       "        1898251, 1898467, 1898663, 1898938, 1899072, 1899103, 1899306,\n",
       "        1899388, 1912877], dtype=int64),)"
      ]
     },
     "execution_count": 15,
     "metadata": {},
     "output_type": "execute_result"
    }
   ],
   "source": [
    "np.where(np.isnan(df['Speed_limit']))"
   ]
  },
  {
   "cell_type": "code",
   "execution_count": 16,
   "metadata": {},
   "outputs": [],
   "source": [
    "df['Speed_limit'].fillna((df['Speed_limit'].mean()), inplace=True)"
   ]
  },
  {
   "cell_type": "code",
   "execution_count": 17,
   "metadata": {},
   "outputs": [],
   "source": [
    "df['Time'].fillna(0, inplace=True)"
   ]
  },
  {
   "cell_type": "code",
   "execution_count": 18,
   "metadata": {},
   "outputs": [],
   "source": [
    "def period(row):\n",
    "    rdf = []\n",
    "    if(type(row) == float):\n",
    "        row = str(row)\n",
    "        rdf = row.split(\".\")\n",
    "    else:\n",
    "        rdf = str(row).split(\":\"); # day -- 8am-8pm\n",
    "        \n",
    "    hr = rdf[0]\n",
    "    if int(hr) > 8 and int(hr) < 20:\n",
    "        return 1;\n",
    "    else:\n",
    "        return 2;"
   ]
  },
  {
   "cell_type": "code",
   "execution_count": 19,
   "metadata": {},
   "outputs": [],
   "source": [
    "df['Time'] = df['Time'].apply(period)"
   ]
  },
  {
   "cell_type": "code",
   "execution_count": 20,
   "metadata": {},
   "outputs": [],
   "source": [
    "df_train1 = df[['1st_Road_Class','Carriageway_Hazards','Junction_Control','Day_of_Week','Junction_Detail','Light_Conditions','Road_Surface_Conditions','Road_Type','Special_Conditions_at_Site','Speed_limit','Time','Urban_or_Rural_Area','Weather_Conditions','Accident_Severity']]"
   ]
  },
  {
   "cell_type": "code",
   "execution_count": 21,
   "metadata": {},
   "outputs": [],
   "source": [
    "df_slight = df_train1[df_train1['Accident_Severity']=='Slight']"
   ]
  },
  {
   "cell_type": "code",
   "execution_count": 22,
   "metadata": {},
   "outputs": [],
   "source": [
    "df_serious = df_train1[df_train1['Accident_Severity']=='Serious']"
   ]
  },
  {
   "cell_type": "code",
   "execution_count": 23,
   "metadata": {},
   "outputs": [],
   "source": [
    "df_fatal = df_train1[df_train1['Accident_Severity']=='Fatal']"
   ]
  },
  {
   "cell_type": "code",
   "execution_count": 24,
   "metadata": {},
   "outputs": [
    {
     "data": {
      "text/plain": [
       "Serious    286339\n",
       "Name: Accident_Severity, dtype: int64"
      ]
     },
     "execution_count": 24,
     "metadata": {},
     "output_type": "execute_result"
    }
   ],
   "source": [
    "df_serious['Accident_Severity'].value_counts()"
   ]
  },
  {
   "cell_type": "code",
   "execution_count": 25,
   "metadata": {},
   "outputs": [
    {
     "data": {
      "text/html": [
       "<div>\n",
       "<style scoped>\n",
       "    .dataframe tbody tr th:only-of-type {\n",
       "        vertical-align: middle;\n",
       "    }\n",
       "\n",
       "    .dataframe tbody tr th {\n",
       "        vertical-align: top;\n",
       "    }\n",
       "\n",
       "    .dataframe thead th {\n",
       "        text-align: right;\n",
       "    }\n",
       "</style>\n",
       "<table border=\"1\" class=\"dataframe\">\n",
       "  <thead>\n",
       "    <tr style=\"text-align: right;\">\n",
       "      <th></th>\n",
       "      <th>1st_Road_Class</th>\n",
       "      <th>Carriageway_Hazards</th>\n",
       "      <th>Junction_Control</th>\n",
       "      <th>Day_of_Week</th>\n",
       "      <th>Junction_Detail</th>\n",
       "      <th>Light_Conditions</th>\n",
       "      <th>Road_Surface_Conditions</th>\n",
       "      <th>Road_Type</th>\n",
       "      <th>Special_Conditions_at_Site</th>\n",
       "      <th>Speed_limit</th>\n",
       "      <th>Time</th>\n",
       "      <th>Urban_or_Rural_Area</th>\n",
       "      <th>Weather_Conditions</th>\n",
       "      <th>Accident_Severity</th>\n",
       "    </tr>\n",
       "  </thead>\n",
       "  <tbody>\n",
       "    <tr>\n",
       "      <th>369803</th>\n",
       "      <td>1</td>\n",
       "      <td>0</td>\n",
       "      <td>1</td>\n",
       "      <td>0</td>\n",
       "      <td>1</td>\n",
       "      <td>0</td>\n",
       "      <td>1</td>\n",
       "      <td>1</td>\n",
       "      <td>0</td>\n",
       "      <td>60.0</td>\n",
       "      <td>1</td>\n",
       "      <td>2</td>\n",
       "      <td>1</td>\n",
       "      <td>Slight</td>\n",
       "    </tr>\n",
       "    <tr>\n",
       "      <th>814070</th>\n",
       "      <td>1</td>\n",
       "      <td>0</td>\n",
       "      <td>5</td>\n",
       "      <td>1</td>\n",
       "      <td>2</td>\n",
       "      <td>0</td>\n",
       "      <td>2</td>\n",
       "      <td>1</td>\n",
       "      <td>0</td>\n",
       "      <td>30.0</td>\n",
       "      <td>1</td>\n",
       "      <td>1</td>\n",
       "      <td>2</td>\n",
       "      <td>Slight</td>\n",
       "    </tr>\n",
       "    <tr>\n",
       "      <th>889711</th>\n",
       "      <td>1</td>\n",
       "      <td>0</td>\n",
       "      <td>1</td>\n",
       "      <td>0</td>\n",
       "      <td>1</td>\n",
       "      <td>0</td>\n",
       "      <td>1</td>\n",
       "      <td>1</td>\n",
       "      <td>0</td>\n",
       "      <td>30.0</td>\n",
       "      <td>1</td>\n",
       "      <td>1</td>\n",
       "      <td>1</td>\n",
       "      <td>Slight</td>\n",
       "    </tr>\n",
       "  </tbody>\n",
       "</table>\n",
       "</div>"
      ],
      "text/plain": [
       "        1st_Road_Class  Carriageway_Hazards  Junction_Control  Day_of_Week  \\\n",
       "369803               1                    0                 1            0   \n",
       "814070               1                    0                 5            1   \n",
       "889711               1                    0                 1            0   \n",
       "\n",
       "        Junction_Detail  Light_Conditions  Road_Surface_Conditions  Road_Type  \\\n",
       "369803                1                 0                        1          1   \n",
       "814070                2                 0                        2          1   \n",
       "889711                1                 0                        1          1   \n",
       "\n",
       "        Special_Conditions_at_Site  Speed_limit  Time  Urban_or_Rural_Area  \\\n",
       "369803                           0         60.0     1                    2   \n",
       "814070                           0         30.0     1                    1   \n",
       "889711                           0         30.0     1                    1   \n",
       "\n",
       "        Weather_Conditions Accident_Severity  \n",
       "369803                   1            Slight  \n",
       "814070                   2            Slight  \n",
       "889711                   1            Slight  "
      ]
     },
     "execution_count": 25,
     "metadata": {},
     "output_type": "execute_result"
    }
   ],
   "source": [
    "random_subset = df_slight.sample(n=3)\n",
    "random_subset.head()"
   ]
  },
  {
   "cell_type": "code",
   "execution_count": 26,
   "metadata": {},
   "outputs": [
    {
     "data": {
      "text/plain": [
       "Fatal    26369\n",
       "Name: Accident_Severity, dtype: int64"
      ]
     },
     "execution_count": 26,
     "metadata": {},
     "output_type": "execute_result"
    }
   ],
   "source": [
    "df_fatal['Accident_Severity'].value_counts()"
   ]
  },
  {
   "cell_type": "code",
   "execution_count": 27,
   "metadata": {},
   "outputs": [
    {
     "data": {
      "text/plain": [
       "Slight    1734548\n",
       "Name: Accident_Severity, dtype: int64"
      ]
     },
     "execution_count": 27,
     "metadata": {},
     "output_type": "execute_result"
    }
   ],
   "source": [
    "df_slight['Accident_Severity'].value_counts()\n"
   ]
  },
  {
   "cell_type": "code",
   "execution_count": 28,
   "metadata": {},
   "outputs": [],
   "source": [
    "df_slight_sampling = df_slight.sample(n=45000)  #Matched the combined number of records for Fatal and Serious(As we are going to club fatal&serious to Serious)"
   ]
  },
  {
   "cell_type": "code",
   "execution_count": 29,
   "metadata": {},
   "outputs": [],
   "source": [
    "df_serious_sampling = df_serious.sample(n=24693)  #Matched number of records with the rarer class (Fatal#24693)"
   ]
  },
  {
   "cell_type": "code",
   "execution_count": 30,
   "metadata": {},
   "outputs": [],
   "source": [
    "df_final_sampling = pd.concat([df_serious_sampling,df_slight_sampling,df_fatal])"
   ]
  },
  {
   "cell_type": "code",
   "execution_count": 31,
   "metadata": {},
   "outputs": [
    {
     "data": {
      "text/html": [
       "<div>\n",
       "<style scoped>\n",
       "    .dataframe tbody tr th:only-of-type {\n",
       "        vertical-align: middle;\n",
       "    }\n",
       "\n",
       "    .dataframe tbody tr th {\n",
       "        vertical-align: top;\n",
       "    }\n",
       "\n",
       "    .dataframe thead th {\n",
       "        text-align: right;\n",
       "    }\n",
       "</style>\n",
       "<table border=\"1\" class=\"dataframe\">\n",
       "  <thead>\n",
       "    <tr style=\"text-align: right;\">\n",
       "      <th></th>\n",
       "      <th>1st_Road_Class</th>\n",
       "      <th>Carriageway_Hazards</th>\n",
       "      <th>Junction_Control</th>\n",
       "      <th>Day_of_Week</th>\n",
       "      <th>Junction_Detail</th>\n",
       "      <th>Light_Conditions</th>\n",
       "      <th>Road_Surface_Conditions</th>\n",
       "      <th>Road_Type</th>\n",
       "      <th>Special_Conditions_at_Site</th>\n",
       "      <th>Speed_limit</th>\n",
       "      <th>Time</th>\n",
       "      <th>Urban_or_Rural_Area</th>\n",
       "      <th>Weather_Conditions</th>\n",
       "      <th>Accident_Severity</th>\n",
       "    </tr>\n",
       "  </thead>\n",
       "  <tbody>\n",
       "    <tr>\n",
       "      <th>27525</th>\n",
       "      <td>1</td>\n",
       "      <td>0</td>\n",
       "      <td>1</td>\n",
       "      <td>0</td>\n",
       "      <td>2</td>\n",
       "      <td>0</td>\n",
       "      <td>1</td>\n",
       "      <td>1</td>\n",
       "      <td>0</td>\n",
       "      <td>60.0</td>\n",
       "      <td>1</td>\n",
       "      <td>2</td>\n",
       "      <td>1</td>\n",
       "      <td>Serious</td>\n",
       "    </tr>\n",
       "    <tr>\n",
       "      <th>1922424</th>\n",
       "      <td>1</td>\n",
       "      <td>0</td>\n",
       "      <td>1</td>\n",
       "      <td>0</td>\n",
       "      <td>3</td>\n",
       "      <td>0</td>\n",
       "      <td>1</td>\n",
       "      <td>1</td>\n",
       "      <td>0</td>\n",
       "      <td>30.0</td>\n",
       "      <td>1</td>\n",
       "      <td>1</td>\n",
       "      <td>1</td>\n",
       "      <td>Serious</td>\n",
       "    </tr>\n",
       "    <tr>\n",
       "      <th>520845</th>\n",
       "      <td>4</td>\n",
       "      <td>0</td>\n",
       "      <td>1</td>\n",
       "      <td>1</td>\n",
       "      <td>1</td>\n",
       "      <td>0</td>\n",
       "      <td>1</td>\n",
       "      <td>2</td>\n",
       "      <td>0</td>\n",
       "      <td>70.0</td>\n",
       "      <td>1</td>\n",
       "      <td>2</td>\n",
       "      <td>1</td>\n",
       "      <td>Serious</td>\n",
       "    </tr>\n",
       "    <tr>\n",
       "      <th>1874194</th>\n",
       "      <td>1</td>\n",
       "      <td>0</td>\n",
       "      <td>1</td>\n",
       "      <td>0</td>\n",
       "      <td>4</td>\n",
       "      <td>0</td>\n",
       "      <td>1</td>\n",
       "      <td>3</td>\n",
       "      <td>0</td>\n",
       "      <td>40.0</td>\n",
       "      <td>1</td>\n",
       "      <td>2</td>\n",
       "      <td>1</td>\n",
       "      <td>Serious</td>\n",
       "    </tr>\n",
       "    <tr>\n",
       "      <th>1029386</th>\n",
       "      <td>1</td>\n",
       "      <td>0</td>\n",
       "      <td>3</td>\n",
       "      <td>1</td>\n",
       "      <td>1</td>\n",
       "      <td>1</td>\n",
       "      <td>1</td>\n",
       "      <td>1</td>\n",
       "      <td>0</td>\n",
       "      <td>60.0</td>\n",
       "      <td>2</td>\n",
       "      <td>2</td>\n",
       "      <td>1</td>\n",
       "      <td>Serious</td>\n",
       "    </tr>\n",
       "  </tbody>\n",
       "</table>\n",
       "</div>"
      ],
      "text/plain": [
       "         1st_Road_Class  Carriageway_Hazards  Junction_Control  Day_of_Week  \\\n",
       "27525                 1                    0                 1            0   \n",
       "1922424               1                    0                 1            0   \n",
       "520845                4                    0                 1            1   \n",
       "1874194               1                    0                 1            0   \n",
       "1029386               1                    0                 3            1   \n",
       "\n",
       "         Junction_Detail  Light_Conditions  Road_Surface_Conditions  \\\n",
       "27525                  2                 0                        1   \n",
       "1922424                3                 0                        1   \n",
       "520845                 1                 0                        1   \n",
       "1874194                4                 0                        1   \n",
       "1029386                1                 1                        1   \n",
       "\n",
       "         Road_Type  Special_Conditions_at_Site  Speed_limit  Time  \\\n",
       "27525            1                           0         60.0     1   \n",
       "1922424          1                           0         30.0     1   \n",
       "520845           2                           0         70.0     1   \n",
       "1874194          3                           0         40.0     1   \n",
       "1029386          1                           0         60.0     2   \n",
       "\n",
       "         Urban_or_Rural_Area  Weather_Conditions Accident_Severity  \n",
       "27525                      2                   1           Serious  \n",
       "1922424                    1                   1           Serious  \n",
       "520845                     2                   1           Serious  \n",
       "1874194                    2                   1           Serious  \n",
       "1029386                    2                   1           Serious  "
      ]
     },
     "execution_count": 31,
     "metadata": {},
     "output_type": "execute_result"
    }
   ],
   "source": [
    "df_final_sampling.head()"
   ]
  },
  {
   "cell_type": "code",
   "execution_count": 32,
   "metadata": {},
   "outputs": [],
   "source": [
    "df_test = df_final_sampling[['Accident_Severity']]"
   ]
  },
  {
   "cell_type": "code",
   "execution_count": 33,
   "metadata": {},
   "outputs": [
    {
     "name": "stderr",
     "output_type": "stream",
     "text": [
      "C:\\Users\\Yogesh\\AppData\\Local\\Temp\\ipykernel_14984\\2084964339.py:2: SettingWithCopyWarning: \n",
      "A value is trying to be set on a copy of a slice from a DataFrame.\n",
      "Try using .loc[row_indexer,col_indexer] = value instead\n",
      "\n",
      "See the caveats in the documentation: https://pandas.pydata.org/pandas-docs/stable/user_guide/indexing.html#returning-a-view-versus-a-copy\n",
      "  df_test['Accident_Severity'] = df_test['Accident_Severity'].replace(['Fatal'], 'Serious')\n"
     ]
    }
   ],
   "source": [
    "#replacing 'Data missing or out of range' with most occured value 'None'\n",
    "df_test['Accident_Severity'] = df_test['Accident_Severity'].replace(['Fatal'], 'Serious')"
   ]
  },
  {
   "cell_type": "code",
   "execution_count": 34,
   "metadata": {},
   "outputs": [],
   "source": [
    "df_train = df_final_sampling[['1st_Road_Class','Carriageway_Hazards','Junction_Control','Day_of_Week','Junction_Detail','Light_Conditions','Road_Surface_Conditions','Road_Type','Special_Conditions_at_Site','Speed_limit','Time','Urban_or_Rural_Area','Weather_Conditions']]"
   ]
  },
  {
   "cell_type": "code",
   "execution_count": 35,
   "metadata": {},
   "outputs": [
    {
     "data": {
      "text/plain": [
       "Serious    51062\n",
       "Slight     45000\n",
       "Name: Accident_Severity, dtype: int64"
      ]
     },
     "execution_count": 35,
     "metadata": {},
     "output_type": "execute_result"
    }
   ],
   "source": [
    "df_test['Accident_Severity'].value_counts()"
   ]
  },
  {
   "cell_type": "code",
   "execution_count": 36,
   "metadata": {},
   "outputs": [],
   "source": [
    "from sklearn.model_selection import train_test_split\n",
    "X_train, X_test, y_train, y_test = train_test_split(df_train, df_test, test_size=0.2)"
   ]
  },
  {
   "cell_type": "code",
   "execution_count": 37,
   "metadata": {},
   "outputs": [
    {
     "name": "stderr",
     "output_type": "stream",
     "text": [
      "C:\\Users\\Yogesh\\AppData\\Local\\Temp\\ipykernel_14984\\1369355692.py:5: DataConversionWarning: A column-vector y was passed when a 1d array was expected. Please change the shape of y to (n_samples,), for example using ravel().\n",
      "  rdf.fit(X_train,y_train)\n"
     ]
    },
    {
     "name": "stdout",
     "output_type": "stream",
     "text": [
      "Accuracy: 0.6128662884505283\n",
      "[[6176 4033]\n",
      " [3405 5599]]\n",
      "              precision    recall  f1-score   support\n",
      "\n",
      "     Serious       0.64      0.60      0.62     10209\n",
      "      Slight       0.58      0.62      0.60      9004\n",
      "\n",
      "    accuracy                           0.61     19213\n",
      "   macro avg       0.61      0.61      0.61     19213\n",
      "weighted avg       0.61      0.61      0.61     19213\n",
      "\n"
     ]
    }
   ],
   "source": [
    "from sklearn.ensemble import RandomForestClassifier\n",
    "#class_weight = dict({2:1, 1:15, 0:50})\n",
    "rdf = RandomForestClassifier(n_estimators=300,random_state=35)\n",
    "\n",
    "rdf.fit(X_train,y_train)\n",
    "\n",
    "y_pred=rdf.predict(X_test)\n",
    "\n",
    "#Import scikit-learn metrics module for accuracy calculation\n",
    "from sklearn import metrics\n",
    "# Model Accuracy, how often is the classifier correct?\n",
    "print(\"Accuracy:\",metrics.accuracy_score(y_test, y_pred))\n",
    "\n",
    "from sklearn import metrics\n",
    "from sklearn.metrics import classification_report, confusion_matrix  \n",
    "print(confusion_matrix(y_test, y_pred))  \n",
    "print(classification_report(y_test, y_pred)) "
   ]
  },
  {
   "cell_type": "code",
   "execution_count": 38,
   "metadata": {},
   "outputs": [
    {
     "name": "stderr",
     "output_type": "stream",
     "text": [
      "C:\\Users\\Yogesh\\AppData\\Local\\Temp\\ipykernel_14984\\1174663607.py:14: DataConversionWarning: A column-vector y was passed when a 1d array was expected. Please change the shape of y to (n_samples,), for example using ravel().\n",
      "  rdf.fit(X_train,y_train)\n",
      "c:\\Users\\Yogesh\\Desktop\\prediction\\venv\\lib\\site-packages\\sklearn\\ensemble\\_forest.py:424: FutureWarning: `max_features='auto'` has been deprecated in 1.1 and will be removed in 1.3. To keep the past behaviour, explicitly set `max_features='sqrt'` or remove this parameter as it is also the default value for RandomForestClassifiers and ExtraTreesClassifiers.\n",
      "  warn(\n"
     ]
    }
   ],
   "source": [
    "from sklearn.ensemble import RandomForestClassifier\n",
    "#class_weight = dict({2:1, 1:15, 0:50})\n",
    "rdf = RandomForestClassifier(bootstrap=True,\n",
    "            class_weight=\"balanced_subsample\", \n",
    "            criterion='gini',\n",
    "            max_depth=8, max_features='auto', max_leaf_nodes=None,\n",
    "            min_impurity_decrease=0.0,\n",
    "            min_samples_leaf=4, min_samples_split=10,\n",
    "            min_weight_fraction_leaf=0.0, n_estimators=300,\n",
    "            oob_score=True,\n",
    "            random_state=35,\n",
    "            verbose=0, warm_start=False)\n",
    "\n",
    "rdf.fit(X_train,y_train)\n",
    "\n",
    "y_pred=rdf.predict(X_test)"
   ]
  },
  {
   "cell_type": "code",
   "execution_count": 39,
   "metadata": {},
   "outputs": [
    {
     "name": "stdout",
     "output_type": "stream",
     "text": [
      "Accuracy: 0.6322281788372456\n",
      "[[5848 4361]\n",
      " [2705 6299]]\n",
      "              precision    recall  f1-score   support\n",
      "\n",
      "     Serious       0.68      0.57      0.62     10209\n",
      "      Slight       0.59      0.70      0.64      9004\n",
      "\n",
      "    accuracy                           0.63     19213\n",
      "   macro avg       0.64      0.64      0.63     19213\n",
      "weighted avg       0.64      0.63      0.63     19213\n",
      "\n"
     ]
    }
   ],
   "source": [
    "#Import scikit-learn metrics module for accuracy calculation\n",
    "from sklearn import metrics\n",
    "from sklearn import metrics\n",
    "from sklearn.metrics import classification_report, confusion_matrix  \n",
    "# Model Accuracy, how often is the classifier correct?\n",
    "\n",
    "print(\"Accuracy:\",metrics.accuracy_score(y_test, y_pred))\n",
    "print(confusion_matrix(y_test, y_pred))  \n",
    "print(classification_report(y_test, y_pred)) "
   ]
  },
  {
   "cell_type": "code",
   "execution_count": null,
   "metadata": {},
   "outputs": [],
   "source": []
  },
  {
   "cell_type": "code",
   "execution_count": 40,
   "metadata": {},
   "outputs": [
    {
     "name": "stderr",
     "output_type": "stream",
     "text": [
      "c:\\Users\\Yogesh\\Desktop\\prediction\\venv\\lib\\site-packages\\sklearn\\neighbors\\_classification.py:215: DataConversionWarning: A column-vector y was passed when a 1d array was expected. Please change the shape of y to (n_samples,), for example using ravel().\n",
      "  return self._fit(X, y)\n"
     ]
    },
    {
     "name": "stdout",
     "output_type": "stream",
     "text": [
      "[[6376 3833]\n",
      " [4353 4651]]\n",
      "              precision    recall  f1-score   support\n",
      "\n",
      "     Serious       0.59      0.62      0.61     10209\n",
      "      Slight       0.55      0.52      0.53      9004\n",
      "\n",
      "    accuracy                           0.57     19213\n",
      "   macro avg       0.57      0.57      0.57     19213\n",
      "weighted avg       0.57      0.57      0.57     19213\n",
      "\n",
      "Accuracy: 0.573934315307344\n"
     ]
    }
   ],
   "source": [
    "# import the class\n",
    "from sklearn.neighbors import KNeighborsClassifier\n",
    "\n",
    "# instantiate the model (with the default parameters)\n",
    "knn = KNeighborsClassifier(n_neighbors=3,weights='distance')\n",
    "\n",
    "# fit the model with data (occurs in-place)\n",
    "knn.fit(X_train, y_train)\n",
    "\n",
    "y_pred = knn.predict(X_test)\n",
    "\n",
    "print(confusion_matrix(y_test, y_pred))  \n",
    "print(classification_report(y_test, y_pred)) \n",
    "print(\"Accuracy:\",metrics.accuracy_score(y_test, y_pred))"
   ]
  },
  {
   "cell_type": "code",
   "execution_count": 41,
   "metadata": {},
   "outputs": [
    {
     "name": "stderr",
     "output_type": "stream",
     "text": [
      "c:\\Users\\Yogesh\\Desktop\\prediction\\venv\\lib\\site-packages\\sklearn\\utils\\validation.py:1143: DataConversionWarning: A column-vector y was passed when a 1d array was expected. Please change the shape of y to (n_samples, ), for example using ravel().\n",
      "  y = column_or_1d(y, warn=True)\n",
      "c:\\Users\\Yogesh\\Desktop\\prediction\\venv\\lib\\site-packages\\sklearn\\linear_model\\_logistic.py:458: ConvergenceWarning: lbfgs failed to converge (status=1):\n",
      "STOP: TOTAL NO. of ITERATIONS REACHED LIMIT.\n",
      "\n",
      "Increase the number of iterations (max_iter) or scale the data as shown in:\n",
      "    https://scikit-learn.org/stable/modules/preprocessing.html\n",
      "Please also refer to the documentation for alternative solver options:\n",
      "    https://scikit-learn.org/stable/modules/linear_model.html#logistic-regression\n",
      "  n_iter_i = _check_optimize_result(\n"
     ]
    },
    {
     "name": "stdout",
     "output_type": "stream",
     "text": [
      "[[6713 3496]\n",
      " [3803 5201]]\n",
      "              precision    recall  f1-score   support\n",
      "\n",
      "     Serious       0.64      0.66      0.65     10209\n",
      "      Slight       0.60      0.58      0.59      9004\n",
      "\n",
      "    accuracy                           0.62     19213\n",
      "   macro avg       0.62      0.62      0.62     19213\n",
      "weighted avg       0.62      0.62      0.62     19213\n",
      "\n",
      "Accuracy: 0.6201009732993286\n"
     ]
    }
   ],
   "source": [
    "from sklearn.linear_model import LogisticRegression\n",
    "logisticRegr = LogisticRegression()\n",
    "logisticRegr.fit(X_train, y_train)\n",
    "y_pred = logisticRegr.predict(X_test)\n",
    "print(confusion_matrix(y_test, y_pred))  \n",
    "print(classification_report(y_test, y_pred)) \n",
    "print(\"Accuracy:\",metrics.accuracy_score(y_test, y_pred))"
   ]
  },
  {
   "cell_type": "code",
   "execution_count": 42,
   "metadata": {},
   "outputs": [
    {
     "name": "stdout",
     "output_type": "stream",
     "text": [
      "              precision    recall  f1-score   support\n",
      "\n",
      "       Fatal       0.03      0.03      0.03      6602\n",
      "     Serious       0.14      0.00      0.01     71718\n",
      "      Slight       0.85      0.98      0.91    433494\n",
      "\n",
      "    accuracy                           0.83    511814\n",
      "   macro avg       0.34      0.34      0.32    511814\n",
      "weighted avg       0.74      0.83      0.77    511814\n",
      "\n",
      "Accuracy: 0.8336583211869937\n"
     ]
    }
   ],
   "source": [
    "from sklearn.naive_bayes import GaussianNB\n",
    "from sklearn.metrics import accuracy_score\n",
    "gnb = GaussianNB()\n",
    "cols = ['1st_Road_Class','Carriageway_Hazards','Day_of_Week','Junction_Detail','Light_Conditions','Road_Surface_Conditions','Road_Type','Special_Conditions_at_Site','Speed_limit','Time','Urban_or_Rural_Area','Weather_Conditions']\n",
    "X = df[cols]\n",
    "Y = df['Accident_Severity']\n",
    "\n",
    "X_train, X_test, Y_train, Y_test = train_test_split(X, Y, test_size=0.25, random_state=42)\n",
    "y_pred = gnb.fit(X_train, Y_train).predict(X_test)\n",
    "confusion_matrix(Y_test, y_pred)\n",
    "print(format(classification_report(Y_test, y_pred)))\n",
    "print(\"Accuracy:\",metrics.accuracy_score(Y_test, y_pred))"
   ]
  },
  {
   "cell_type": "code",
   "execution_count": null,
   "metadata": {},
   "outputs": [],
   "source": []
  }
 ],
 "metadata": {
  "kernelspec": {
   "display_name": "venv",
   "language": "python",
   "name": "python3"
  },
  "language_info": {
   "codemirror_mode": {
    "name": "ipython",
    "version": 3
   },
   "file_extension": ".py",
   "mimetype": "text/x-python",
   "name": "python",
   "nbconvert_exporter": "python",
   "pygments_lexer": "ipython3",
   "version": "3.10.10"
  },
  "vscode": {
   "interpreter": {
    "hash": "bb3c8315b1e188b67ce00504b2f3e9bfca305c6b6cbf438e1163dfe18630fdbb"
   }
  }
 },
 "nbformat": 4,
 "nbformat_minor": 2
}
